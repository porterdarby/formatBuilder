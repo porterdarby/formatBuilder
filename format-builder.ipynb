{
 "cells": [
  {
   "cell_type": "code",
   "execution_count": 19,
   "metadata": {
    "scrolled": true
   },
   "outputs": [
    {
     "data": {
      "text/plain": [
       "{'Kor Skyfisher': 4,\n",
       " 'Seeker of the Way': 2,\n",
       " 'Archaeomancer': 2,\n",
       " 'Custodi Squire': 1,\n",
       " 'Mulldrifter': 3,\n",
       " 'Brainstorm': 2,\n",
       " 'Ephemerate': 3,\n",
       " 'Flame Slash': 1,\n",
       " 'Lightning Bolt': 2,\n",
       " 'Ponder': 2,\n",
       " 'Preordain': 4,\n",
       " 'Skred': 4,\n",
       " 'Counterspell': 4,\n",
       " 'Remove Soul': 1,\n",
       " \"Arcum's Astrolabe\": 4,\n",
       " 'Mystic Remora': 2,\n",
       " 'Ash Barrens': 4,\n",
       " 'Snow-Covered Island': 9,\n",
       " 'Snow-Covered Mountain': 2,\n",
       " 'Snow-Covered Plains': 2,\n",
       " 'Terramorphic Expanse': 2,\n",
       " 'Electrickery': 2,\n",
       " 'Hydroblast': 3,\n",
       " 'Pyroblast': 3,\n",
       " 'Red Elemental Blast': 1,\n",
       " 'Relic of Progenitus': 2,\n",
       " 'Weather the Storm': 2,\n",
       " 'Oblivion Ring': 1,\n",
       " 'Swirling Sandstorm': 1}"
      ]
     },
     "execution_count": 19,
     "metadata": {},
     "output_type": "execute_result"
    }
   ],
   "source": [
    "from bs4 import BeautifulSoup\n",
    "import requests\n",
    "\n",
    "request_url: str = \"https://www.mtggoldfish.com/archetype/pauper-wurg-88184#paper\"\n",
    "\n",
    "# http = HTTPSession()\n",
    "    \n",
    "# requested_page = http.request('get', requests_url)\n",
    "\n",
    "requested_page = requests.get(request_url)\n",
    "soup = BeautifulSoup(requested_page.text)\n",
    "decklist_pairs = [(y.select(\"td.deck-col-card\")[0].a.string, int(y.select(\"td.deck-col-qty\")[0].string.strip())) for y in [x.parent for x in soup.select(\"#tab-online tr td.deck-col-qty\")]]\n",
    "dict(decklist_pairs)"
   ]
  }
 ],
 "metadata": {
  "kernelspec": {
   "display_name": "Python 3",
   "language": "python",
   "name": "python3"
  },
  "language_info": {
   "codemirror_mode": {
    "name": "ipython",
    "version": 3
   },
   "file_extension": ".py",
   "mimetype": "text/x-python",
   "name": "python",
   "nbconvert_exporter": "python",
   "pygments_lexer": "ipython3",
   "version": "3.7.3"
  }
 },
 "nbformat": 4,
 "nbformat_minor": 2
}
